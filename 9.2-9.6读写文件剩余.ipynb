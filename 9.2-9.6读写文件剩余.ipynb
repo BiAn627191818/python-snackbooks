{
 "cells": [
  {
   "cell_type": "code",
   "execution_count": 2,
   "metadata": {},
   "outputs": [
    {
     "data": {
      "text/plain": [
       "13"
      ]
     },
     "execution_count": 2,
     "metadata": {},
     "output_type": "execute_result"
    }
   ],
   "source": [
    "from pathlib import Path\n",
    "p = Path('spam.txt')\n",
    "p.write_text('Hello, world!')"
   ]
  },
  {
   "cell_type": "code",
   "execution_count": 3,
   "metadata": {},
   "outputs": [
    {
     "data": {
      "text/plain": [
       "'Hello, world!'"
      ]
     },
     "execution_count": 3,
     "metadata": {},
     "output_type": "execute_result"
    }
   ],
   "source": [
    "p.read_text()"
   ]
  },
  {
   "cell_type": "code",
   "execution_count": 7,
   "metadata": {},
   "outputs": [],
   "source": [
    "helloFile = open(Path.home()/'hello.txt','r')  #加个r明确指定以读模式打开文件"
   ]
  },
  {
   "cell_type": "code",
   "execution_count": 6,
   "metadata": {},
   "outputs": [],
   "source": [
    "helloFile = open('C:\\\\Users\\\\dian\\\\hello.txt')"
   ]
  },
  {
   "cell_type": "code",
   "execution_count": 8,
   "metadata": {},
   "outputs": [
    {
     "data": {
      "text/plain": [
       "'Hello,world!'"
      ]
     },
     "execution_count": 8,
     "metadata": {},
     "output_type": "execute_result"
    }
   ],
   "source": [
    "helloContent = helloFile.read()\n",
    "helloContent"
   ]
  },
  {
   "cell_type": "code",
   "execution_count": 9,
   "metadata": {},
   "outputs": [
    {
     "data": {
      "text/plain": [
       "[\"When, in disgrace with fortune and men's eyes,\\n\",\n",
       " 'I all alone beweep my outcast state,\\n',\n",
       " 'And trouble deaf heaven with my bottless cries,\\n',\n",
       " 'And look upon myself and curse my fate,']"
      ]
     },
     "execution_count": 9,
     "metadata": {},
     "output_type": "execute_result"
    }
   ],
   "source": [
    "sonnetFile = open(Path.home()/'sonnet29.txt')\n",
    "sonnetFile.readlines()"
   ]
  },
  {
   "cell_type": "code",
   "execution_count": 11,
   "metadata": {},
   "outputs": [
    {
     "data": {
      "text/plain": [
       "13"
      ]
     },
     "execution_count": 11,
     "metadata": {},
     "output_type": "execute_result"
    }
   ],
   "source": [
    "baconFile = open('bacon.txt','w')\n",
    "baconFile.write('Hello,world!\\n')"
   ]
  },
  {
   "cell_type": "code",
   "execution_count": 13,
   "metadata": {},
   "outputs": [
    {
     "data": {
      "text/plain": [
       "25"
      ]
     },
     "execution_count": 13,
     "metadata": {},
     "output_type": "execute_result"
    }
   ],
   "source": [
    "baconFile.close()\n",
    "baconFile = open('bacon.txt','a')\n",
    "baconFile.write('Bacon is not a vegetable.')"
   ]
  },
  {
   "cell_type": "code",
   "execution_count": 14,
   "metadata": {},
   "outputs": [
    {
     "name": "stdout",
     "output_type": "stream",
     "text": [
      "Hello,world!\n",
      "Bacon is not a vegetable.Bacon is not a vegetable.\n"
     ]
    }
   ],
   "source": [
    "baconFile.close()\n",
    "baconFile = open('bacon.txt')\n",
    "content = baconFile.read()\n",
    "baconFile.close()\n",
    "print(content)"
   ]
  },
  {
   "cell_type": "code",
   "execution_count": 15,
   "metadata": {},
   "outputs": [],
   "source": [
    "import shelve\n",
    "shelfFile = shelve.open('mydata')\n",
    "cats=['Zophie','Pooka','Simon']\n",
    "shelfFile['cats']=cats\n",
    "shelfFile.close()"
   ]
  },
  {
   "cell_type": "code",
   "execution_count": 16,
   "metadata": {},
   "outputs": [
    {
     "data": {
      "text/plain": [
       "shelve.DbfilenameShelf"
      ]
     },
     "execution_count": 16,
     "metadata": {},
     "output_type": "execute_result"
    }
   ],
   "source": [
    "shelfFile = shelve.open('mydata')\n",
    "type(shelfFile)"
   ]
  },
  {
   "cell_type": "code",
   "execution_count": 17,
   "metadata": {},
   "outputs": [
    {
     "data": {
      "text/plain": [
       "['Zophie', 'Pooka', 'Simon']"
      ]
     },
     "execution_count": 17,
     "metadata": {},
     "output_type": "execute_result"
    }
   ],
   "source": [
    "shelfFile['cats']"
   ]
  },
  {
   "cell_type": "code",
   "execution_count": 18,
   "metadata": {},
   "outputs": [],
   "source": [
    "shelfFile.close()"
   ]
  },
  {
   "cell_type": "code",
   "execution_count": 19,
   "metadata": {},
   "outputs": [
    {
     "data": {
      "text/plain": [
       "['cats']"
      ]
     },
     "execution_count": 19,
     "metadata": {},
     "output_type": "execute_result"
    }
   ],
   "source": [
    "shelfFile=shelve.open('mydata')\n",
    "list(shelfFile.keys())"
   ]
  },
  {
   "cell_type": "code",
   "execution_count": 21,
   "metadata": {},
   "outputs": [
    {
     "data": {
      "text/plain": [
       "[['Zophie', 'Pooka', 'Simon']]"
      ]
     },
     "execution_count": 21,
     "metadata": {},
     "output_type": "execute_result"
    }
   ],
   "source": [
    "list(shelfFile.values())"
   ]
  },
  {
   "cell_type": "code",
   "execution_count": 22,
   "metadata": {},
   "outputs": [],
   "source": [
    "shelfFile.close()"
   ]
  },
  {
   "cell_type": "code",
   "execution_count": 23,
   "metadata": {},
   "outputs": [
    {
     "data": {
      "text/plain": [
       "\"[{'desc': 'chubby', 'name': 'Zophie'}, {'desc': 'fluffy', 'name': 'Pooka'}]\""
      ]
     },
     "execution_count": 23,
     "metadata": {},
     "output_type": "execute_result"
    }
   ],
   "source": [
    "import pprint\n",
    "cats = [{'name':'Zophie','desc':'chubby'},{'name':'Pooka','desc':'fluffy'}]\n",
    "pprint.pformat(cats)"
   ]
  },
  {
   "cell_type": "code",
   "execution_count": 24,
   "metadata": {},
   "outputs": [
    {
     "data": {
      "text/plain": [
       "83"
      ]
     },
     "execution_count": 24,
     "metadata": {},
     "output_type": "execute_result"
    }
   ],
   "source": [
    "fileObj = open('myCats.py','w')\n",
    "fileObj.write('cats = '+pprint.pformat(cats) +'\\n')"
   ]
  },
  {
   "cell_type": "code",
   "execution_count": 25,
   "metadata": {},
   "outputs": [
    {
     "data": {
      "text/plain": [
       "<function TextIOWrapper.close()>"
      ]
     },
     "execution_count": 25,
     "metadata": {},
     "output_type": "execute_result"
    }
   ],
   "source": [
    "fileObj.close"
   ]
  },
  {
   "cell_type": "code",
   "execution_count": 34,
   "metadata": {},
   "outputs": [
    {
     "ename": "AttributeError",
     "evalue": "module 'myCats' has no attribute 'cats'",
     "output_type": "error",
     "traceback": [
      "\u001b[1;31m---------------------------------------------------------------------------\u001b[0m",
      "\u001b[1;31mAttributeError\u001b[0m                            Traceback (most recent call last)",
      "\u001b[1;32m<ipython-input-34-25c917bf1be8>\u001b[0m in \u001b[0;36m<module>\u001b[1;34m\u001b[0m\n\u001b[0;32m      1\u001b[0m \u001b[1;32mimport\u001b[0m \u001b[0mmyCats\u001b[0m\u001b[1;33m\u001b[0m\u001b[1;33m\u001b[0m\u001b[0m\n\u001b[1;32m----> 2\u001b[1;33m \u001b[0mmyCats\u001b[0m\u001b[1;33m.\u001b[0m\u001b[0mcats\u001b[0m\u001b[1;33m\u001b[0m\u001b[1;33m\u001b[0m\u001b[0m\n\u001b[0m",
      "\u001b[1;31mAttributeError\u001b[0m: module 'myCats' has no attribute 'cats'"
     ]
    }
   ],
   "source": [
    "import myCats\n",
    "myCats.cats"
   ]
  },
  {
   "cell_type": "code",
   "execution_count": 35,
   "metadata": {},
   "outputs": [
    {
     "ename": "AttributeError",
     "evalue": "module 'myCats' has no attribute 'cats'",
     "output_type": "error",
     "traceback": [
      "\u001b[1;31m---------------------------------------------------------------------------\u001b[0m",
      "\u001b[1;31mAttributeError\u001b[0m                            Traceback (most recent call last)",
      "\u001b[1;32m<ipython-input-35-5c69c4034001>\u001b[0m in \u001b[0;36m<module>\u001b[1;34m\u001b[0m\n\u001b[1;32m----> 1\u001b[1;33m \u001b[0mmyCats\u001b[0m\u001b[1;33m.\u001b[0m\u001b[0mcats\u001b[0m\u001b[1;33m[\u001b[0m\u001b[1;36m0\u001b[0m\u001b[1;33m]\u001b[0m\u001b[1;33m\u001b[0m\u001b[1;33m\u001b[0m\u001b[0m\n\u001b[0m",
      "\u001b[1;31mAttributeError\u001b[0m: module 'myCats' has no attribute 'cats'"
     ]
    }
   ],
   "source": [
    "myCats.cats[0]"
   ]
  },
  {
   "cell_type": "code",
   "execution_count": 28,
   "metadata": {},
   "outputs": [
    {
     "ename": "AttributeError",
     "evalue": "module 'myCats' has no attribute 'cats'",
     "output_type": "error",
     "traceback": [
      "\u001b[1;31m---------------------------------------------------------------------------\u001b[0m",
      "\u001b[1;31mAttributeError\u001b[0m                            Traceback (most recent call last)",
      "\u001b[1;32m<ipython-input-28-05fc81bf1052>\u001b[0m in \u001b[0;36m<module>\u001b[1;34m\u001b[0m\n\u001b[1;32m----> 1\u001b[1;33m \u001b[0mmyCats\u001b[0m\u001b[1;33m.\u001b[0m\u001b[0mcats\u001b[0m\u001b[1;33m[\u001b[0m\u001b[1;36m0\u001b[0m\u001b[1;33m]\u001b[0m\u001b[1;33m[\u001b[0m\u001b[1;34m'name'\u001b[0m\u001b[1;33m]\u001b[0m\u001b[1;33m\u001b[0m\u001b[1;33m\u001b[0m\u001b[0m\n\u001b[0m",
      "\u001b[1;31mAttributeError\u001b[0m: module 'myCats' has no attribute 'cats'"
     ]
    }
   ],
   "source": [
    "myCats.cats[0]['name']"
   ]
  },
  {
   "cell_type": "code",
   "execution_count": 29,
   "metadata": {},
   "outputs": [],
   "source": [
    "import random\n",
    "\n",
    "# The quiz data. Keys are states and values are their capitals.\n",
    "capitals = {'Alabama': 'Montgomery', 'Alaska': 'Juneau', 'Arizona': 'Phoenix', 'Arkansas': 'Little Rock', 'California': 'Sacramento', 'Colorado': 'Denver', 'Connecticut': 'Hartford', 'Delaware': 'Dover', 'Florida': 'Tallahassee', 'Georgia': 'Atlanta', 'Hawaii': 'Honolulu', 'Idaho': 'Boise', 'Illinois': 'Springfield', 'Indiana': 'Indianapolis', 'Iowa': 'Des Moines', 'Kansas': 'Topeka', 'Kentucky': 'Frankfort', 'Louisiana': 'Baton Rouge', 'Maine': 'Augusta', 'Maryland': 'Annapolis', 'Massachusetts': 'Boston', 'Michigan': 'Lansing', 'Minnesota': 'Saint Paul', 'Mississippi': 'Jackson', 'Missouri': 'Jefferson City', 'Montana': 'Helena', 'Nebraska': 'Lincoln', 'Nevada': 'Carson City', 'New Hampshire': 'Concord', 'New Jersey': 'Trenton', 'New Mexico': 'Santa Fe', 'New York': 'Albany', 'North Carolina': 'Raleigh', 'North Dakota': 'Bismarck', 'Ohio': 'Columbus', 'Oklahoma': 'Oklahoma City', 'Oregon': 'Salem', 'Pennsylvania': 'Harrisburg', 'Rhode Island': 'Providence', 'South Carolina': 'Columbia', 'South Dakota': 'Pierre', 'Tennessee': 'Nashville', 'Texas': 'Austin', 'Utah': 'Salt Lake City', 'Vermont': 'Montpelier', 'Virginia': 'Richmond', 'Washington': 'Olympia', 'West Virginia': 'Charleston', 'Wisconsin': 'Madison', 'Wyoming': 'Cheyenne'}\n",
    "capitalsItems = list(capitals.items())\n",
    "\n",
    "# Generate 35 quiz files.\n",
    "for quizNum in range(35): \n",
    "    # Create the quiz and answer key files.\n",
    "    quizFile = open('capitalsquiz%s.txt' % (quizNum + 1), 'w')\n",
    "    answerKeyFile = open('capitalsquiz_answers%s.txt' % (quizNum + 1), 'w')\n",
    "\n",
    "    # Write out the header for the quiz.\n",
    "    quizFile.write('Name:\\n\\nDate:\\n\\nPeriod:\\n\\n')\n",
    "    quizFile.write((' ' * 20) + 'State Capitals Quiz (Form %s)' % (quizNum + 1))\n",
    "    quizFile.write('\\n\\n')\n",
    "\n",
    "    # Shuffle the order of the states.\n",
    "    states = list(capitals.keys()) # get all states in a list\n",
    "    random.shuffle(states) # randomize the order of the states\n",
    "\n",
    "    # Loop through all 50 states, making a question for each.\n",
    "    for questionNum in range(50):\n",
    "\n",
    "        # Get right and wrong answers.\n",
    "        correctAnswer = capitals[states[questionNum]]\n",
    "        wrongAnswers = list(capitals.values()) # get a complete list of answers\n",
    "        del wrongAnswers[wrongAnswers.index(correctAnswer)] # remove the right answer\n",
    "        wrongAnswers = random.sample(wrongAnswers, 3) # pick 3 random ones\n",
    "\n",
    "        answerOptions = wrongAnswers + [correctAnswer]\n",
    "        random.shuffle(answerOptions) # randomize the order of the answers\n",
    "\n",
    "        # Write the question and answer options to the quiz file.\n",
    "        quizFile.write('%s. What is the capital of %s?\\n' % (questionNum + 1, states[questionNum]))\n",
    "        for i in range(4):\n",
    "            quizFile.write('    %s. %s\\n' % ('ABCD'[i], answerOptions[i]))\n",
    "        quizFile.write('\\n')\n",
    "\n",
    "        # Write out the answer key to a file.\n",
    "        answerKeyFile.write('%s. %s\\n' % (questionNum + 1, 'ABCD'[answerOptions.index(correctAnswer)]))\n",
    "    quizFile.close()\n",
    "    answerKeyFile.close()"
   ]
  },
  {
   "cell_type": "code",
   "execution_count": 31,
   "metadata": {},
   "outputs": [
    {
     "name": "stdout",
     "output_type": "stream",
     "text": [
      "C:\\Users\\dian\\capitalsquiz_answers1.txt\n",
      "C:\\Users\\dian\\capitalsquiz_answers10.txt\n",
      "C:\\Users\\dian\\capitalsquiz_answers11.txt\n",
      "C:\\Users\\dian\\capitalsquiz_answers12.txt\n",
      "C:\\Users\\dian\\capitalsquiz_answers13.txt\n",
      "C:\\Users\\dian\\capitalsquiz_answers14.txt\n",
      "C:\\Users\\dian\\capitalsquiz_answers15.txt\n",
      "C:\\Users\\dian\\capitalsquiz_answers16.txt\n",
      "C:\\Users\\dian\\capitalsquiz_answers17.txt\n",
      "C:\\Users\\dian\\capitalsquiz_answers18.txt\n",
      "C:\\Users\\dian\\capitalsquiz_answers19.txt\n",
      "C:\\Users\\dian\\capitalsquiz_answers2.txt\n",
      "C:\\Users\\dian\\capitalsquiz_answers20.txt\n",
      "C:\\Users\\dian\\capitalsquiz_answers21.txt\n",
      "C:\\Users\\dian\\capitalsquiz_answers22.txt\n",
      "C:\\Users\\dian\\capitalsquiz_answers23.txt\n",
      "C:\\Users\\dian\\capitalsquiz_answers24.txt\n",
      "C:\\Users\\dian\\capitalsquiz_answers25.txt\n",
      "C:\\Users\\dian\\capitalsquiz_answers26.txt\n",
      "C:\\Users\\dian\\capitalsquiz_answers27.txt\n",
      "C:\\Users\\dian\\capitalsquiz_answers28.txt\n",
      "C:\\Users\\dian\\capitalsquiz_answers29.txt\n",
      "C:\\Users\\dian\\capitalsquiz_answers3.txt\n",
      "C:\\Users\\dian\\capitalsquiz_answers30.txt\n",
      "C:\\Users\\dian\\capitalsquiz_answers31.txt\n",
      "C:\\Users\\dian\\capitalsquiz_answers32.txt\n",
      "C:\\Users\\dian\\capitalsquiz_answers33.txt\n",
      "C:\\Users\\dian\\capitalsquiz_answers34.txt\n",
      "C:\\Users\\dian\\capitalsquiz_answers35.txt\n",
      "C:\\Users\\dian\\capitalsquiz_answers4.txt\n",
      "C:\\Users\\dian\\capitalsquiz_answers5.txt\n",
      "C:\\Users\\dian\\capitalsquiz_answers6.txt\n",
      "C:\\Users\\dian\\capitalsquiz_answers7.txt\n",
      "C:\\Users\\dian\\capitalsquiz_answers8.txt\n",
      "C:\\Users\\dian\\capitalsquiz_answers9.txt\n"
     ]
    }
   ],
   "source": [
    "import os                       #上一章节生成文件太多了，这次全部删了\n",
    "from pathlib import Path\n",
    "for filename in Path.home().glob('capitalsquiz_answers*.txt'):\n",
    "    os.unlink(filename)\n",
    "    print(filename)"
   ]
  },
  {
   "cell_type": "code",
   "execution_count": 32,
   "metadata": {},
   "outputs": [
    {
     "name": "stdout",
     "output_type": "stream",
     "text": [
      "C:\\Users\\dian\\capitalsquiz1.txt\n",
      "C:\\Users\\dian\\capitalsquiz10.txt\n",
      "C:\\Users\\dian\\capitalsquiz11.txt\n",
      "C:\\Users\\dian\\capitalsquiz12.txt\n",
      "C:\\Users\\dian\\capitalsquiz13.txt\n",
      "C:\\Users\\dian\\capitalsquiz14.txt\n",
      "C:\\Users\\dian\\capitalsquiz15.txt\n",
      "C:\\Users\\dian\\capitalsquiz16.txt\n",
      "C:\\Users\\dian\\capitalsquiz17.txt\n",
      "C:\\Users\\dian\\capitalsquiz18.txt\n",
      "C:\\Users\\dian\\capitalsquiz19.txt\n",
      "C:\\Users\\dian\\capitalsquiz2.txt\n",
      "C:\\Users\\dian\\capitalsquiz20.txt\n",
      "C:\\Users\\dian\\capitalsquiz21.txt\n",
      "C:\\Users\\dian\\capitalsquiz22.txt\n",
      "C:\\Users\\dian\\capitalsquiz23.txt\n",
      "C:\\Users\\dian\\capitalsquiz24.txt\n",
      "C:\\Users\\dian\\capitalsquiz25.txt\n",
      "C:\\Users\\dian\\capitalsquiz26.txt\n",
      "C:\\Users\\dian\\capitalsquiz27.txt\n",
      "C:\\Users\\dian\\capitalsquiz28.txt\n",
      "C:\\Users\\dian\\capitalsquiz29.txt\n",
      "C:\\Users\\dian\\capitalsquiz3.txt\n",
      "C:\\Users\\dian\\capitalsquiz30.txt\n",
      "C:\\Users\\dian\\capitalsquiz31.txt\n",
      "C:\\Users\\dian\\capitalsquiz32.txt\n",
      "C:\\Users\\dian\\capitalsquiz33.txt\n",
      "C:\\Users\\dian\\capitalsquiz34.txt\n",
      "C:\\Users\\dian\\capitalsquiz35.txt\n",
      "C:\\Users\\dian\\capitalsquiz4.txt\n",
      "C:\\Users\\dian\\capitalsquiz5.txt\n",
      "C:\\Users\\dian\\capitalsquiz6.txt\n",
      "C:\\Users\\dian\\capitalsquiz7.txt\n",
      "C:\\Users\\dian\\capitalsquiz8.txt\n",
      "C:\\Users\\dian\\capitalsquiz9.txt\n"
     ]
    }
   ],
   "source": [
    "import os\n",
    "from pathlib import Path\n",
    "for filename in Path.home().glob('capitalsquiz*.txt'):\n",
    "    os.unlink(filename)\n",
    "    print(filename)"
   ]
  },
  {
   "cell_type": "code",
   "execution_count": 33,
   "metadata": {},
   "outputs": [],
   "source": [
    "import shelve, pyperclip, sys   #？？？\n",
    "\n",
    "mcbShelf = shelve.open('mcb')\n",
    "\n",
    "# Save clipboard content.\n",
    "if len(sys.argv) == 3 and sys.argv[1].lower() == 'save':\n",
    "        mcbShelf[sys.argv[2]] = pyperclip.paste()\n",
    "elif len(sys.argv) == 2:\n",
    "# List keywords and load content.\n",
    "    if sys.argv[1].lower() == 'list':\n",
    "        pyperclip.copy(str(list(mcbShelf.keys())))\n",
    "    elif sys.argv[1] in mcbShelf:\n",
    "        pyperclip.copy(mcbShelf[sys.argv[1]])\n",
    "\n",
    "mcbShelf.close()"
   ]
  },
  {
   "cell_type": "code",
   "execution_count": null,
   "metadata": {},
   "outputs": [],
   "source": []
  }
 ],
 "metadata": {
  "kernelspec": {
   "display_name": "Python 3",
   "language": "python",
   "name": "python3"
  },
  "language_info": {
   "codemirror_mode": {
    "name": "ipython",
    "version": 3
   },
   "file_extension": ".py",
   "mimetype": "text/x-python",
   "name": "python",
   "nbconvert_exporter": "python",
   "pygments_lexer": "ipython3",
   "version": "3.7.3"
  }
 },
 "nbformat": 4,
 "nbformat_minor": 2
}
