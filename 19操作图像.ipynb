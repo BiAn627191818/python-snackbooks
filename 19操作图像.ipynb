{
 "cells": [
  {
   "cell_type": "code",
   "execution_count": 2,
   "metadata": {},
   "outputs": [
    {
     "data": {
      "text/plain": [
       "(255, 0, 0, 255)"
      ]
     },
     "execution_count": 2,
     "metadata": {},
     "output_type": "execute_result"
    }
   ],
   "source": [
    "from PIL import ImageColor\n",
    "ImageColor.getcolor('red','RGBA')"
   ]
  },
  {
   "cell_type": "code",
   "execution_count": 3,
   "metadata": {},
   "outputs": [
    {
     "data": {
      "text/plain": [
       "(255, 0, 0, 255)"
      ]
     },
     "execution_count": 3,
     "metadata": {},
     "output_type": "execute_result"
    }
   ],
   "source": [
    "ImageColor.getcolor('RED','RGBA')"
   ]
  },
  {
   "cell_type": "code",
   "execution_count": 4,
   "metadata": {},
   "outputs": [
    {
     "data": {
      "text/plain": [
       "(0, 0, 0, 255)"
      ]
     },
     "execution_count": 4,
     "metadata": {},
     "output_type": "execute_result"
    }
   ],
   "source": [
    "ImageColor.getcolor('Black','RGBA')"
   ]
  },
  {
   "cell_type": "code",
   "execution_count": 5,
   "metadata": {},
   "outputs": [
    {
     "data": {
      "text/plain": [
       "(210, 105, 30, 255)"
      ]
     },
     "execution_count": 5,
     "metadata": {},
     "output_type": "execute_result"
    }
   ],
   "source": [
    "ImageColor.getcolor('chocolate','RGBA')"
   ]
  },
  {
   "cell_type": "code",
   "execution_count": 6,
   "metadata": {},
   "outputs": [
    {
     "data": {
      "text/plain": [
       "(100, 149, 237, 255)"
      ]
     },
     "execution_count": 6,
     "metadata": {},
     "output_type": "execute_result"
    }
   ],
   "source": [
    "ImageColor.getcolor('CornflowerBlue','RGBA')"
   ]
  },
  {
   "cell_type": "code",
   "execution_count": 9,
   "metadata": {},
   "outputs": [
    {
     "data": {
      "text/plain": [
       "(816, 1088)"
      ]
     },
     "execution_count": 9,
     "metadata": {},
     "output_type": "execute_result"
    }
   ],
   "source": [
    "from PIL import Image\n",
    "catIm = Image.open('zophie.png')\n",
    "catIm.size"
   ]
  },
  {
   "cell_type": "code",
   "execution_count": 10,
   "metadata": {},
   "outputs": [],
   "source": [
    "width,height=catIm.size"
   ]
  },
  {
   "cell_type": "code",
   "execution_count": 11,
   "metadata": {},
   "outputs": [
    {
     "data": {
      "text/plain": [
       "816"
      ]
     },
     "execution_count": 11,
     "metadata": {},
     "output_type": "execute_result"
    }
   ],
   "source": [
    "width"
   ]
  },
  {
   "cell_type": "code",
   "execution_count": 12,
   "metadata": {},
   "outputs": [
    {
     "data": {
      "text/plain": [
       "1088"
      ]
     },
     "execution_count": 12,
     "metadata": {},
     "output_type": "execute_result"
    }
   ],
   "source": [
    "height"
   ]
  },
  {
   "cell_type": "code",
   "execution_count": 13,
   "metadata": {},
   "outputs": [
    {
     "data": {
      "text/plain": [
       "'zophie.png'"
      ]
     },
     "execution_count": 13,
     "metadata": {},
     "output_type": "execute_result"
    }
   ],
   "source": [
    "catIm.filename"
   ]
  },
  {
   "cell_type": "code",
   "execution_count": 14,
   "metadata": {},
   "outputs": [
    {
     "data": {
      "text/plain": [
       "'PNG'"
      ]
     },
     "execution_count": 14,
     "metadata": {},
     "output_type": "execute_result"
    }
   ],
   "source": [
    "catIm.format"
   ]
  },
  {
   "cell_type": "code",
   "execution_count": 15,
   "metadata": {},
   "outputs": [
    {
     "data": {
      "text/plain": [
       "'Portable network graphics'"
      ]
     },
     "execution_count": 15,
     "metadata": {},
     "output_type": "execute_result"
    }
   ],
   "source": [
    "catIm.format_description"
   ]
  },
  {
   "cell_type": "code",
   "execution_count": 16,
   "metadata": {},
   "outputs": [],
   "source": [
    "catIm.save('zophie.jpg')"
   ]
  },
  {
   "cell_type": "code",
   "execution_count": 17,
   "metadata": {},
   "outputs": [],
   "source": [
    "from PIL import Image\n",
    "im=Image.new('RGBA',(100,200),'purple')\n",
    "im.save('purpleImage.png')\n",
    "im2 =Image.new('RGBA',(20,20))\n",
    "im2.save('transparentImage.png')"
   ]
  },
  {
   "cell_type": "code",
   "execution_count": 23,
   "metadata": {},
   "outputs": [],
   "source": [
    "from PIL import Image\n",
    "catIm = Image.open('zophie.png')\n",
    "croppedIm = catIm.crop((335,345,565,560))\n",
    "croppedIm.save('cropped.png')"
   ]
  },
  {
   "cell_type": "code",
   "execution_count": 26,
   "metadata": {},
   "outputs": [],
   "source": [
    "from PIL import Image\n",
    "catIm = Image.open('zophie.png')\n",
    "catCopyIm = catIm.copy()"
   ]
  },
  {
   "cell_type": "code",
   "execution_count": 27,
   "metadata": {},
   "outputs": [
    {
     "data": {
      "text/plain": [
       "(230, 215)"
      ]
     },
     "execution_count": 27,
     "metadata": {},
     "output_type": "execute_result"
    }
   ],
   "source": [
    "faceIm = catIm.crop((335,345,565,560))\n",
    "faceIm.size"
   ]
  },
  {
   "cell_type": "code",
   "execution_count": 28,
   "metadata": {},
   "outputs": [],
   "source": [
    "catCopyIm.paste(faceIm,(0,0))\n",
    "catCopyIm.paste(faceIm,(400,500))\n",
    "catCopyIm.save('pasted.png')"
   ]
  },
  {
   "cell_type": "code",
   "execution_count": 29,
   "metadata": {},
   "outputs": [
    {
     "name": "stdout",
     "output_type": "stream",
     "text": [
      "0 0\n",
      "0 215\n",
      "0 430\n",
      "0 645\n",
      "0 860\n",
      "0 1075\n",
      "230 0\n",
      "230 215\n",
      "230 430\n",
      "230 645\n",
      "230 860\n",
      "230 1075\n",
      "460 0\n",
      "460 215\n",
      "460 430\n",
      "460 645\n",
      "460 860\n",
      "460 1075\n",
      "690 0\n",
      "690 215\n",
      "690 430\n",
      "690 645\n",
      "690 860\n",
      "690 1075\n"
     ]
    }
   ],
   "source": [
    "catImWidth,catImHeight = catIm.size\n",
    "faceImWidth,faceImHeight = faceIm.size\n",
    "catCopyTwo = catIm.copy()\n",
    "for left in range(0,catImWidth,faceImWidth):\n",
    "    for top in range(0,catImHeight,faceImHeight):\n",
    "        print(left,top)\n",
    "        catCopyTwo.paste(faceIm,(left,top))"
   ]
  },
  {
   "cell_type": "code",
   "execution_count": 30,
   "metadata": {},
   "outputs": [],
   "source": [
    "catCopyTwo.save('tiled.png')"
   ]
  },
  {
   "cell_type": "code",
   "execution_count": 31,
   "metadata": {},
   "outputs": [],
   "source": [
    "from PIL import Image\n",
    "catIm=Image.open('Zophie.png')\n",
    "width,height=catIm.size\n",
    "quartersizedIm = catIm.resize((int(width/2),int(height/2)))\n",
    "quartersizedIm.save('quartersized.png')\n",
    "svelteIm = catIm.resize((width,height+300))\n",
    "svelteIm.save('svelte.png')"
   ]
  },
  {
   "cell_type": "code",
   "execution_count": 32,
   "metadata": {},
   "outputs": [],
   "source": [
    "from PIL import Image\n",
    "catIm = Image.open('zophie.png')\n",
    "catIm.rotate(90).save('rotated90.png')\n",
    "catIm.rotate(180).save('rotated180.png')\n",
    "catIm.rotate(270).save('rotated270.png')"
   ]
  },
  {
   "cell_type": "code",
   "execution_count": 34,
   "metadata": {},
   "outputs": [],
   "source": [
    "catIm.rotate(6).save('rotated6.png')\n",
    "catIm.rotate(6,expand=True).save('rotated6_expended.png')"
   ]
  },
  {
   "cell_type": "code",
   "execution_count": 35,
   "metadata": {},
   "outputs": [],
   "source": [
    "catIm.transpose(Image.FLIP_LEFT_RIGHT).save('horizontal_flip.png')\n",
    "catIm.transpose(Image.FLIP_TOP_BOTTOM).save('vertical_flip.png')"
   ]
  },
  {
   "cell_type": "code",
   "execution_count": 36,
   "metadata": {},
   "outputs": [
    {
     "data": {
      "text/plain": [
       "(0, 0, 0, 0)"
      ]
     },
     "execution_count": 36,
     "metadata": {},
     "output_type": "execute_result"
    }
   ],
   "source": [
    "from PIL import Image\n",
    "im=Image.new('RGBA',(100,100))\n",
    "im.getpixel((0,0))"
   ]
  },
  {
   "cell_type": "code",
   "execution_count": 37,
   "metadata": {},
   "outputs": [],
   "source": [
    "for x in range(100):\n",
    "    for y in range(50):\n",
    "        im.putpixel((x,y),(210,210,210))"
   ]
  },
  {
   "cell_type": "code",
   "execution_count": 38,
   "metadata": {},
   "outputs": [],
   "source": [
    "from PIL import ImageColor\n",
    "for x in range(100):\n",
    "    for y in range(50,100):\n",
    "        im.putpixel((x,y),ImageColor.getcolor('darkgrey','RGBA'))"
   ]
  },
  {
   "cell_type": "code",
   "execution_count": 39,
   "metadata": {},
   "outputs": [
    {
     "data": {
      "text/plain": [
       "(210, 210, 210, 255)"
      ]
     },
     "execution_count": 39,
     "metadata": {},
     "output_type": "execute_result"
    }
   ],
   "source": [
    "im.getpixel((0,0))"
   ]
  },
  {
   "cell_type": "code",
   "execution_count": 40,
   "metadata": {},
   "outputs": [
    {
     "data": {
      "text/plain": [
       "(169, 169, 169, 255)"
      ]
     },
     "execution_count": 40,
     "metadata": {},
     "output_type": "execute_result"
    }
   ],
   "source": [
    "im.getpixel((0,50))"
   ]
  },
  {
   "cell_type": "code",
   "execution_count": 41,
   "metadata": {},
   "outputs": [],
   "source": [
    "im.save('putPixel.png')"
   ]
  },
  {
   "cell_type": "code",
   "execution_count": 46,
   "metadata": {},
   "outputs": [
    {
     "name": "stdout",
     "output_type": "stream",
     "text": [
      "Adding logo to cropped.png...\n",
      "Resizing horizontal_flip.png...\n",
      "Adding logo to horizontal_flip.png...\n",
      "Resizing pasted.png...\n",
      "Adding logo to pasted.png...\n",
      "Adding logo to purpleImage.png...\n",
      "Adding logo to putPixel.png...\n",
      "Resizing quartersized.png...\n",
      "Adding logo to quartersized.png...\n",
      "Resizing rotated180.png...\n",
      "Adding logo to rotated180.png...\n",
      "Resizing rotated270.png...\n",
      "Adding logo to rotated270.png...\n",
      "Resizing rotated6.png...\n",
      "Adding logo to rotated6.png...\n",
      "Resizing rotated6_expended.png...\n",
      "Adding logo to rotated6_expended.png...\n",
      "Resizing rotated90.png...\n",
      "Adding logo to rotated90.png...\n",
      "Resizing screenshot.png...\n",
      "Adding logo to screenshot.png...\n",
      "Resizing svelte.png...\n",
      "Adding logo to svelte.png...\n",
      "Resizing tiled.png...\n",
      "Adding logo to tiled.png...\n",
      "Adding logo to transparentImage.png...\n",
      "Resizing vertical_flip.png...\n",
      "Adding logo to vertical_flip.png...\n",
      "Resizing zophie.jpg...\n",
      "Adding logo to zophie.jpg...\n",
      "Resizing zophie.png...\n",
      "Adding logo to zophie.png...\n"
     ]
    }
   ],
   "source": [
    "import os                                #这程序有问题\n",
    "from PIL import Image\n",
    "\n",
    "SQUARE_FIT_SIZE = 300\n",
    "LOGO_FILENAME = 'catlogo.png'\n",
    "\n",
    "logoIm = Image.open(LOGO_FILENAME)\n",
    "logoWidth,logoHeight = logoIm.size\n",
    "\n",
    "os.makedirs('withLogo', exist_ok=True)\n",
    "# Loop over all files in the working directory.\n",
    "for filename in os.listdir('.'):\n",
    "    if not (filename.endswith('.png') or filename.endswith('.jpg')) or filename == LOGO_FILENAME:\n",
    "        continue # skip non-image files and the logo file itself\n",
    "\n",
    "    im = Image.open(filename)\n",
    "    width, height = im.size\n",
    "\n",
    "    # Check if image needs to be resized.\n",
    "    if width > SQUARE_FIT_SIZE and height > SQUARE_FIT_SIZE:\n",
    "        # Calculate the new width and height to resize to.\n",
    "        if width > height:\n",
    "            height = int((SQUARE_FIT_SIZE / width) * height)\n",
    "            width = SQUARE_FIT_SIZE\n",
    "        else:\n",
    "            width = int((SQUARE_FIT_SIZE / height) * width)\n",
    "            height = SQUARE_FIT_SIZE\n",
    "\n",
    "        # Resize the image.\n",
    "        print('Resizing %s...' % (filename))\n",
    "        im = im.resize((width, height))\n",
    "\n",
    "     # Add logo.\n",
    "    print('Adding logo to %s...' % (filename))\n",
    "    im.paste(logoIm, (width - logoWidth, height - logoHeight), logoIm)\n",
    "\n",
    "    # Save changes.\n",
    "    im.save(os.path.join('withLogo', filename))\n"
   ]
  },
  {
   "cell_type": "code",
   "execution_count": 51,
   "metadata": {},
   "outputs": [],
   "source": [
    "from PIL import Image,ImageDraw\n",
    "im = Image.new('RGBA',(200,200),'white')\n",
    "draw = ImageDraw.Draw(im)"
   ]
  },
  {
   "cell_type": "code",
   "execution_count": 52,
   "metadata": {},
   "outputs": [],
   "source": [
    "from PIL import Image,ImageDraw\n",
    "im = Image.new('RGBA',(200,200),'white')\n",
    "draw = ImageDraw.Draw(im)\n",
    "draw.line([(0,0),(199,0),(199,199),(0,199),(0,0)],fill='black')\n",
    "im.save('drawing.png')"
   ]
  },
  {
   "cell_type": "code",
   "execution_count": 53,
   "metadata": {},
   "outputs": [],
   "source": [
    "draw.rectangle((20,30,60,60),fill='blue')\n",
    "im.save('drawing.png')"
   ]
  },
  {
   "cell_type": "code",
   "execution_count": 54,
   "metadata": {},
   "outputs": [],
   "source": [
    "draw.ellipse((120,30,160,60),fill='red')\n",
    "im.save('drawing.png')"
   ]
  },
  {
   "cell_type": "code",
   "execution_count": 58,
   "metadata": {},
   "outputs": [],
   "source": [
    "draw.polygon(((57,87),(79,62),(94,85),(120,90),(103,113)),fill='brown')\n",
    "im.save('drawing.png')"
   ]
  },
  {
   "cell_type": "code",
   "execution_count": 59,
   "metadata": {},
   "outputs": [],
   "source": [
    "for i in range(100,200,10):\n",
    "    draw.line([(i,0),(200,i-100)],fill='green')    \n",
    "im.save('drawing.png')"
   ]
  },
  {
   "cell_type": "code",
   "execution_count": 60,
   "metadata": {},
   "outputs": [],
   "source": [
    "from PIL import Image,ImageDraw,ImageFont\n",
    "import os\n",
    "im = Image.new('RGBA',(200,200),'white')\n",
    "draw =ImageDraw.Draw(im)\n",
    "draw.text((20,150),'Hello',fill='purple')\n",
    "fontsFolder = 'FONT_FOLDER' \n",
    "arialFont = ImageFont.truetype(os.path.join(fontsFolder,'arial.ttf'),32)\n",
    "draw.text((100,150),'Howdy',fill='gray',font=arialFont)\n",
    "im.save('text.png')"
   ]
  }
 ],
 "metadata": {
  "kernelspec": {
   "display_name": "Python 3 (ipykernel)",
   "language": "python",
   "name": "python3"
  },
  "language_info": {
   "codemirror_mode": {
    "name": "ipython",
    "version": 3
   },
   "file_extension": ".py",
   "mimetype": "text/x-python",
   "name": "python",
   "nbconvert_exporter": "python",
   "pygments_lexer": "ipython3",
   "version": "3.9.13"
  }
 },
 "nbformat": 4,
 "nbformat_minor": 2
}
