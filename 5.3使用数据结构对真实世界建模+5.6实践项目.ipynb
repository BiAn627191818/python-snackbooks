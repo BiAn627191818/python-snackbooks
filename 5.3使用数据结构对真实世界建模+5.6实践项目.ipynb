{
 "cells": [
  {
   "cell_type": "code",
   "execution_count": 1,
   "metadata": {},
   "outputs": [
    {
     "name": "stdout",
     "output_type": "stream",
     "text": [
      " | | \n",
      "-+-+-\n",
      " | | \n",
      "-+-+-\n",
      " | | \n"
     ]
    }
   ],
   "source": [
    "theBoard={'top-L':' ','top-M':' ','top-R':' ',\n",
    "          'mid-L':' ','mid-M':' ','mid-R':' ',\n",
    "          'low-L':' ','low-M':' ','low-R':' '}\n",
    "def printBoard(board):\n",
    "    print(board['top-L']+'|'+board['top-M']+'|'+board['top-R'])\n",
    "    print('-+-+-')\n",
    "    print(board['mid-L']+'|'+board['mid-M']+'|'+board['mid-R'])\n",
    "    print('-+-+-')\n",
    "    print(board['low-L']+'|'+board['low-M']+'|'+board['low-R'])\n",
    "printBoard(theBoard)"
   ]
  },
  {
   "cell_type": "code",
   "execution_count": 2,
   "metadata": {},
   "outputs": [
    {
     "name": "stdout",
     "output_type": "stream",
     "text": [
      "O|O|O\n",
      "-+-+-\n",
      "X|X| \n",
      "-+-+-\n",
      " | |X\n"
     ]
    }
   ],
   "source": [
    "theBoard={'top-L':'O','top-M':'O','top-R':'O',\n",
    "          'mid-L':'X','mid-M':'X','mid-R':' ',\n",
    "          'low-L':' ','low-M':' ','low-R':'X'}\n",
    "def printBoard(board):\n",
    "    print(board['top-L']+'|'+board['top-M']+'|'+board['top-R'])\n",
    "    print('-+-+-')\n",
    "    print(board['mid-L']+'|'+board['mid-M']+'|'+board['mid-R'])\n",
    "    print('-+-+-')\n",
    "    print(board['low-L']+'|'+board['low-M']+'|'+board['low-R'])\n",
    "printBoard(theBoard)"
   ]
  },
  {
   "cell_type": "code",
   "execution_count": 3,
   "metadata": {},
   "outputs": [
    {
     "name": "stdout",
     "output_type": "stream",
     "text": [
      " | | \n",
      "-+-+-\n",
      " | | \n",
      "-+-+-\n",
      " | | \n",
      "Turn for X.Move on which space?\n",
      "top-L\n",
      "X| | \n",
      "-+-+-\n",
      " | | \n",
      "-+-+-\n",
      " | | \n",
      "Turn for O.Move on which space?\n",
      "mid-M\n",
      "X| | \n",
      "-+-+-\n",
      " |O| \n",
      "-+-+-\n",
      " | | \n",
      "Turn for X.Move on which space?\n",
      "quit\n",
      "X| | \n",
      "-+-+-\n",
      " |O| \n",
      "-+-+-\n",
      " | | \n"
     ]
    }
   ],
   "source": [
    "theBoard={'top-L':' ','top-M':' ','top-R':' ',\n",
    "          'mid-L':' ','mid-M':' ','mid-R':' ',\n",
    "          'low-L':' ','low-M':' ','low-R':' '}\n",
    "def printBoard(board):\n",
    "    print(board['top-L']+'|'+board['top-M']+'|'+board['top-R'])\n",
    "    print('-+-+-')\n",
    "    print(board['mid-L']+'|'+board['mid-M']+'|'+board['mid-R'])\n",
    "    print('-+-+-')\n",
    "    print(board['low-L']+'|'+board['low-M']+'|'+board['low-R'])\n",
    "turn = 'X'\n",
    "for i in range(9):\n",
    "    printBoard(theBoard)\n",
    "    print('Turn for '+turn+'.Move on which space?')\n",
    "    move = input()\n",
    "    if move == 'quit':\n",
    "        break\n",
    "    theBoard[move] = turn\n",
    "    if turn=='X':\n",
    "        turn='O'\n",
    "    else:\n",
    "        turn='X'\n",
    "printBoard(theBoard)"
   ]
  },
  {
   "cell_type": "code",
   "execution_count": 4,
   "metadata": {},
   "outputs": [
    {
     "name": "stdout",
     "output_type": "stream",
     "text": [
      "Number of things being brought:\n",
      " - Apples           7\n",
      " - Cups             3\n",
      " - Cakes            0\n",
      " - Ham Sandwiches   3\n",
      " - Apple Pies       1\n"
     ]
    }
   ],
   "source": [
    "allGuests = {'Alice':{'apples':5,'pretzels':12},\n",
    "             'Bob':{'ham sandwiches':3,'apples':2},\n",
    "             'Carol':{'cups':3,'apple pies':1}}\n",
    "\n",
    "def totalBrought(guests,item):\n",
    "    numBrought = 0\n",
    "    for k,v in guests.items():\n",
    "        numBrought = numBrought + v.get(item,0)\n",
    "    return numBrought\n",
    "\n",
    "print('Number of things being brought:')\n",
    "print(' - Apples           '+str(totalBrought(allGuests,'apples')))\n",
    "print(' - Cups             '+str(totalBrought(allGuests,'cups')))\n",
    "print(' - Cakes            '+str(totalBrought(allGuests,'cakes')))\n",
    "print(' - Ham Sandwiches   '+str(totalBrought(allGuests,'ham sandwiches')))\n",
    "print(' - Apple Pies       '+str(totalBrought(allGuests,'apple pies')))\n"
   ]
  }
 ],
 "metadata": {
  "kernelspec": {
   "display_name": "Python 3",
   "language": "python",
   "name": "python3"
  },
  "language_info": {
   "codemirror_mode": {
    "name": "ipython",
    "version": 3
   },
   "file_extension": ".py",
   "mimetype": "text/x-python",
   "name": "python",
   "nbconvert_exporter": "python",
   "pygments_lexer": "ipython3",
   "version": "3.7.3"
  }
 },
 "nbformat": 4,
 "nbformat_minor": 2
}
